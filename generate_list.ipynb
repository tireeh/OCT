{
 "cells": [
  {
   "cell_type": "code",
   "execution_count": null,
   "metadata": {
    "ExecuteTime": {
     "end_time": "2018-09-26T07:55:22.695814Z",
     "start_time": "2018-09-26T07:55:22.028601Z"
    }
   },
   "outputs": [],
   "source": [
    "import os, re, cv2, sys, pdb\n",
    "import numpy as np\n",
    "import matplotlib.pyplot as plt\n",
    "\n",
    "from tqdm import tqdm\n",
    "sys.path.append(\"../\")\n",
    "from dataloaders.Image_transforms import Resize, Split_h, Normalize_divide, Random_flip, Rotation, Translation, Shear  \n",
    "from torchvision import datasets, models, transforms\n",
    "\n",
    "def atoi(text):\n",
    "    return int(text) if text.isdigit() else text\n",
    "\n",
    "def natural_keys(text):\n",
    "    '''\n",
    "    alist.sort(key=natural_keys) sorts in human order\n",
    "    http://nedbatchelder.com/blog/200712/human_sorting.html\n",
    "    (See Toothy's implementation in the comments)\n",
    "    '''\n",
    "    return [ atoi(c) for c in re.split('(\\d+)', text) ]\n",
    "\n",
    "def write_txt(target_txt, target_folder):\n",
    "    with open(target_txt, \"w\") as f:\n",
    "        for image_name in os.listdir(target_folder):\n",
    "            f.write(image_name+\"\\n\")\n",
    "\n",
    "def write_list2txt(target_txt, target_list):\n",
    "    with open(target_txt, \"w\") as f:\n",
    "        for image_name in target_list:\n",
    "            f.write(image_name+\"\\n\")\n",
    "    \n",
    "def resolve_records(sample_root, label_root, abnormal_pixels = [128, 191, 255]):\n",
    "    normal_imagenames, abnormal_imagenames = [], []\n",
    "    for sample_folder in tqdm(sorted(os.listdir(sample_root))):\n",
    "        image_names = os.listdir(os.path.join(sample_root, sample_folder))\n",
    "        image_names.sort(key=natural_keys)\n",
    "        for image_name in image_names:\n",
    "            is_normal = True\n",
    "            label_image = cv2.imread(os.path.join(label_root, sample_folder.replace(\".img\", \"_labelMark\"), image_name))[:,:,0]\n",
    "            for abnormal_pixel in abnormal_pixels:\n",
    "                if abnormal_pixel in label_image:\n",
    "                    is_normal = False\n",
    "                    break\n",
    "            if is_normal:\n",
    "                normal_imagenames.append(os.path.join(sample_folder, image_name))\n",
    "            else:\n",
    "                abnormal_imagenames.append(os.path.join(sample_folder, image_name))\n",
    "    return normal_imagenames, abnormal_imagenames\n",
    "\n",
    "\n",
    "\n",
    "                "
   ]
  },
  {
   "cell_type": "code",
   "execution_count": null,
   "metadata": {
    "ExecuteTime": {
     "end_time": "2018-09-26T07:55:22.803138Z",
     "start_time": "2018-09-26T07:55:22.700520Z"
    }
   },
   "outputs": [],
   "source": [
    "train_tr = transforms.Compose([\n",
    "                     Resize((224, 224)),\n",
    "                     Random_flip(1),\n",
    "                     Rotation(20),\n",
    "                     Translation(50),\n",
    "                     Shear(2),\n",
    "                     Normalize_divide(255.0)])\n",
    "\n",
    "val_tr = transforms.Compose([\n",
    "                     Resize((224, 224)),\n",
    "                     Normalize_divide(255.0)])\n",
    "\n",
    "trainset = Imageset({\"./data_list/Cell_OCT/train_NORMAL.txt\": [\"/root/workspace/datasets/OCT/train/NORMAL/\", 0, 0.22], \n",
    "                     \"./data_list/Cell_OCT/train_DME.txt\": [\"/root/workspace/datasets/OCT/train/DME/\", 1, 1.0],\n",
    "                     \"./data_list/AIChallenger/train_normal.txt\": [\"/root/workspace/AIChallenger_OCT/data/Edema_trainingset/original_images\", 0, 1.0],\n",
    "                     \"./data_list/AIChallenger/train_abnormal.txt\": [\"/root/workspace/AIChallenger_OCT/data/Edema_trainingset/original_images\", 1, 1.0]\n",
    "                    }, train_tr)\n",
    "\n",
    "valset = Imageset({\"./data_list/Cell_OCT/test_NORMAL.txt\": [\"/root/workspace/datasets/OCT/test/NORMAL/\", 0, 1.0], \n",
    "                     \"./data_list/Cell_OCT/test_DME.txt\": [\"/root/workspace/datasets/OCT/test/DME/\", 1, 1.0],\n",
    "                     \"./data_list/AIChallenger/val_normal.txt\": [\"/root/workspace/AIChallenger_OCT/data/Edema_validationset/original_images\", 0, 1.0],\n",
    "                     \"./data_list/AIChallenger/val_abnormal.txt\": [\"/root/workspace/AIChallenger_OCT/data/Edema_validationset/original_images\", 1, 1.0]\n",
    "                    }, val_tr)"
   ]
  },
  {
   "cell_type": "code",
   "execution_count": null,
   "metadata": {
    "ExecuteTime": {
     "end_time": "2018-09-26T07:55:38.617371Z",
     "start_time": "2018-09-26T07:55:22.807604Z"
    },
    "scrolled": true
   },
   "outputs": [],
   "source": [
    "for i, [image, label] in enumerate(trainset):\n",
    "    pdb.set_trace()\n",
    "    plt.imshow(image, cmap = \"gray\")\n",
    "    plt.show()"
   ]
  },
  {
   "cell_type": "code",
   "execution_count": null,
   "metadata": {
    "ExecuteTime": {
     "end_time": "2018-09-26T07:11:12.966321Z",
     "start_time": "2018-09-26T07:11:12.955642Z"
    }
   },
   "outputs": [],
   "source": [
    "# sample_root = \"./data/Edema_validationset/original_images/\"\n",
    "# label_root = \"./data/Edema_validationset/label_images/\"\n",
    "\n",
    "# normal_imagenames, abnormal_imagenames = resolve_records(sample_root, label_root)\n",
    "\n",
    "# normal_txt = \"./data_list/AIChallenger/val_normal.txt\"\n",
    "# abnormal_txt = \"./data_list/AIChallenger/val_abnormal.txt\"\n",
    "\n",
    "# write_list2txt(normal_txt, normal_imagenames)\n",
    "# write_list2txt(abnormal_txt, abnormal_imagenames)"
   ]
  },
  {
   "cell_type": "code",
   "execution_count": null,
   "metadata": {},
   "outputs": [],
   "source": []
  }
 ],
 "metadata": {
  "kernelspec": {
   "display_name": "Python 2",
   "language": "python",
   "name": "python2"
  },
  "language_info": {
   "codemirror_mode": {
    "name": "ipython",
    "version": 2
   },
   "file_extension": ".py",
   "mimetype": "text/x-python",
   "name": "python",
   "nbconvert_exporter": "python",
   "pygments_lexer": "ipython2",
   "version": "2.7.12"
  }
 },
 "nbformat": 4,
 "nbformat_minor": 2
}
