{
 "cells": [
  {
   "cell_type": "code",
   "execution_count": 1,
   "metadata": {
    "ExecuteTime": {
     "end_time": "2018-10-07T10:39:14.284205Z",
     "start_time": "2018-10-07T10:39:13.954760Z"
    }
   },
   "outputs": [],
   "source": [
    "import cPickle, os\n",
    "import pdb\n",
    "import numpy as np\n",
    "\n",
    "def load_pickle(pickle_path):\n",
    "    with open(pickle_path, 'rb') as fo:\n",
    "        pickle_dict = cPickle.load(fo)\n",
    "    return pickle_dict  \n",
    "\n",
    "def combine_pickles(sample_names_pickle, REA_pickle, SRF_pickle, PED_pickle):\n",
    "    sample_names = load_pickle(sample_names_pickle)\n",
    "    REA_predictions = load_pickle(REA_pickle)\n",
    "    SRF_predictions = load_pickle(SRF_pickle)\n",
    "    PED_predictions = load_pickle(PED_pickle)\n",
    "    \n",
    "    combined_predictions = []\n",
    "    for i in range(len(REA_predictions)):\n",
    "        np.place(REA_predictions[i], REA_predictions[i]==2, 1) # first step, replace the SRF and PED to REA\n",
    "        np.place(REA_predictions[i], REA_predictions[i]==3, 1)\n",
    "        SRF_locs = (SRF_predictions[i] == 2)\n",
    "        PED_locs = (PED_predictions[i] == 3)\n",
    "        \n",
    "        np.place(REA_predictions[i], SRF_locs, 2)\n",
    "        np.place(REA_predictions[i], PED_locs, 3)\n",
    "        \n",
    "        combined_predictions.append(REA_predictions[i])\n",
    "        \n",
    "    return sample_names, REA_predictions\n",
    "\n",
    "def write_disk(target_root, sample_names, sample_predictions):\n",
    "    for i in range(len(sample_names)):\n",
    "        target_path = os.path.join(target_root, sample_names[i]+\"_volumes.npy\")\n",
    "        np.save(target_path, sample_predictions[i].astype(\"uint8\")) # save as uint8 to save space"
   ]
  },
  {
   "cell_type": "code",
   "execution_count": 3,
   "metadata": {
    "ExecuteTime": {
     "end_time": "2018-10-07T10:42:23.615060Z",
     "start_time": "2018-10-07T10:39:36.221122Z"
    }
   },
   "outputs": [],
   "source": [
    "sample_names_pickle = \"./predictions/pickles/combination/sample_names_0.7484.pkl\"\n",
    "REA_pickle = \"./predictions/pickles/combination/segmentation_sample_predictions_epoch12.pkl\"\n",
    "SRF_pickle = \"./predictions/pickles/combination/ensemble_segmentation_sample_predictions_SRF0.3003.pkl\"\n",
    "PED_pickle = \"./predictions/pickles/combination/segmentation_sample_predictions_0.7484.pkl\"\n",
    "\n",
    "sample_names, predictions = combine_pickles(sample_names_pickle, REA_pickle, SRF_pickle, PED_pickle)"
   ]
  },
  {
   "cell_type": "code",
   "execution_count": 4,
   "metadata": {
    "ExecuteTime": {
     "end_time": "2018-10-07T10:42:28.118987Z",
     "start_time": "2018-10-07T10:42:25.643218Z"
    }
   },
   "outputs": [],
   "source": [
    "write_disk(\"./predictions/segmentation/20181007/\", sample_names, predictions)"
   ]
  },
  {
   "cell_type": "code",
   "execution_count": null,
   "metadata": {},
   "outputs": [],
   "source": []
  }
 ],
 "metadata": {
  "kernelspec": {
   "display_name": "Python 2",
   "language": "python",
   "name": "python2"
  },
  "language_info": {
   "codemirror_mode": {
    "name": "ipython",
    "version": 2
   },
   "file_extension": ".py",
   "mimetype": "text/x-python",
   "name": "python",
   "nbconvert_exporter": "python",
   "pygments_lexer": "ipython2",
   "version": "2.7.12"
  }
 },
 "nbformat": 4,
 "nbformat_minor": 2
}
